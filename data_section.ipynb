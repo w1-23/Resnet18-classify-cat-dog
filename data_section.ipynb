{
 "cells": [
  {
   "cell_type": "code",
   "execution_count": null,
   "metadata": {},
   "outputs": [],
   "source": [
    "#在最初的data中没有进行cat和dog的子文件夹的划分，\n",
    "# 所以这里我使用了代码来自动划分子文件来方便我后续使用dataset.ImageFolder\n",
    "#其实你可以直接通过文件资源管理器来进行划分，然后直接使用dataset.ImageFolder\n",
    "import shutil\n",
    "import os\n",
    "\n",
    "data_dir = r'E:\\github复现\\vit-pytorch-main\\vit-pytorch-main\\examples\\data\\train'\n",
    "cat_dir = os.path.join(data_dir, 'cat')\n",
    "dog_dir = os.path.join(data_dir, 'dog')\n",
    "os.makedirs(cat_dir, exist_ok=True)\n",
    "os.makedirs(dog_dir, exist_ok=True)\n",
    "\n",
    "image_files = [f for f in os.listdir(data_dir) if f.endswith(('.jpg'))]\n",
    "total_images = len(image_files)\n",
    "half_images = total_images // 2\n",
    "\n",
    "#因为我的前面12499张就是cat 后面12499张就是dog  所以使用的就是简单的for循环\n",
    "for i, file in enumerate(image_files[:half_images]):\n",
    "    shutil.move(os.path.join(data_dir, file), os.path.join(cat_dir, file))\n",
    "\n",
    "for i, file in enumerate(image_files[half_images:]):\n",
    "    shutil.move(os.path.join(data_dir, file), os.path.join(dog_dir, file))"
   ]
  },
  {
   "cell_type": "code",
   "execution_count": null,
   "metadata": {},
   "outputs": [
    {
     "name": "stdout",
     "output_type": "stream",
     "text": [
      "数据划分完成！\n"
     ]
    }
   ],
   "source": [
    "import shutil\n",
    "import os\n",
    "import random\n",
    "#划分trait文件夹下的cat和dog 文件夹 \n",
    "#将cat/dog 都以0.8/0.1/0.1的比例随机划分为train/val/test\n",
    "#并移入到对应的文件夹中\n",
    "# data/\n",
    "# ├── cat/  # 原始 cat 文件夹\n",
    "# ├── dog/  # 原始 dog 文件夹\n",
    "# ├── train/\n",
    "# │   ├── cat/  # 训练集 cat 图片\n",
    "# │   └── dog/  # 训练集 dog 图片\n",
    "# ├── val/\n",
    "# │   ├── cat/  # 验证集 cat 图片\n",
    "# │   └── dog/  # 验证集 dog 图片\n",
    "# └── test/\n",
    "#     ├── cat/  # 测试集 cat 图片\n",
    "#     └── dog/  # 测试集 dog 图片\n",
    "\n",
    "#！！！！注意请确保你已有trait文件夹，并且里面含有cat和dog文件夹  ！！！注意此代码没有估计随机数种子 不要多次运行\n",
    "#为防止多次运行导致数据混乱， 你可以在运行一次之后就打开注释掉，或者自行固定随机数种子\n",
    "# 定义路径\n",
    "\n",
    "data_dir = r'E:\\github复现\\resnet实现项目test\\data\\trait'\n",
    "cat_dir = os.path.join(data_dir, 'cat')\n",
    "dog_dir = os.path.join(data_dir, 'dog')\n",
    "train_dir = os.path.join(data_dir, 'train')\n",
    "val_dir = os.path.join(data_dir, 'val')\n",
    "test_dir = os.path.join(data_dir, 'test')\n",
    "\n",
    "# 创建目标文件夹\n",
    "for folder in [train_dir, val_dir, test_dir]:\n",
    "    os.makedirs(os.path.join(folder, 'cat'), exist_ok=True)\n",
    "    os.makedirs(os.path.join(folder, 'dog'), exist_ok=True)\n",
    "\n",
    "# 随机划分函数\n",
    "def split_data(source_dir, train_ratio=0.8, val_ratio=0.1):\n",
    "    # 获取所有图片文件\n",
    "    image_files = [f for f in os.listdir(source_dir) if f.endswith(('.jpg', '.png'))]\n",
    "    random.shuffle(image_files)  # 随机打乱\n",
    "\n",
    "    # 计算划分点\n",
    "    total_images = len(image_files)\n",
    "    train_end = int(total_images * train_ratio)\n",
    "    val_end = train_end + int(total_images * val_ratio)\n",
    "\n",
    "    # 返回划分后的文件列表\n",
    "    return (\n",
    "        image_files[:train_end],  # 训练集\n",
    "        image_files[train_end:val_end],  # 验证集\n",
    "        image_files[val_end:]  # 测试集\n",
    "    )\n",
    "\n",
    "# 处理 cat 文件夹\n",
    "cat_train, cat_val, cat_test = split_data(cat_dir)\n",
    "for file in cat_train:\n",
    "    shutil.move(os.path.join(cat_dir, file), os.path.join(train_dir, 'cat', file))\n",
    "for file in cat_val:\n",
    "    shutil.move(os.path.join(cat_dir, file), os.path.join(val_dir, 'cat', file))\n",
    "for file in cat_test:\n",
    "    shutil.move(os.path.join(cat_dir, file), os.path.join(test_dir, 'cat', file))\n",
    "\n",
    "# 处理 dog 文件夹\n",
    "dog_train, dog_val, dog_test = split_data(dog_dir)\n",
    "for file in dog_train:\n",
    "    shutil.move(os.path.join(dog_dir, file), os.path.join(train_dir, 'dog', file))\n",
    "for file in dog_val:\n",
    "    shutil.move(os.path.join(dog_dir, file), os.path.join(val_dir, 'dog', file))\n",
    "for file in dog_test:\n",
    "    shutil.move(os.path.join(dog_dir, file), os.path.join(test_dir, 'dog', file))\n",
    "\n",
    "print(\"数据划分完成！\")\n"
   ]
  },
  {
   "cell_type": "code",
   "execution_count": 4,
   "metadata": {},
   "outputs": [
    {
     "name": "stdout",
     "output_type": "stream",
     "text": [
      "训练集图片数量: 20000\n",
      "验证集图片数量: 2500\n",
      "测试集图片数量: 2500\n"
     ]
    }
   ],
   "source": [
    "#输出测试集 验证集 训练集的图片数量\n",
    "print(f\"训练集图片数量: {len(cat_train) + len(dog_train)}\")\n",
    "print(f\"验证集图片数量: {len(cat_val) + len(dog_val)}\")\n",
    "print(f\"测试集图片数量: {len(cat_test) + len(dog_test)}\")\n"
   ]
  },
  {
   "cell_type": "markdown",
   "metadata": {},
   "source": [
    "期望输出：数据划分完成！\n",
    "训练集图片数量: 20000\n",
    "验证集图片数量: 2500\n",
    "测试集图片数量: 2500"
   ]
  }
 ],
 "metadata": {
  "kernelspec": {
   "display_name": "d2l-learn",
   "language": "python",
   "name": "python3"
  },
  "language_info": {
   "codemirror_mode": {
    "name": "ipython",
    "version": 3
   },
   "file_extension": ".py",
   "mimetype": "text/x-python",
   "name": "python",
   "nbconvert_exporter": "python",
   "pygments_lexer": "ipython3",
   "version": "3.9.21"
  }
 },
 "nbformat": 4,
 "nbformat_minor": 2
}
