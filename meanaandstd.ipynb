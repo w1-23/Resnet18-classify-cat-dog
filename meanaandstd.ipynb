import torch
from torchvision import datasets, transforms
from torch.utils.data import DataLoader

# 假设你的数据集路径
data_dir = r"E:\github复现\resnet实现项目test\data\train"

# 只进行 ToTensor 转换，不进行归一化，以便后续计算均值和标准差
transform = transforms.Compose([
    transforms.ToTensor()
])

# 加载数据集
dataset = datasets.ImageFolder(data_dir, transform=transform) 

# 创建数据加载器
dataloader = DataLoader(dataset, batch_size=1, shuffle=False)

# 初始化三个通道的像素值总和和像素总数
psum    = torch.tensor([0.0, 0.0, 0.0])
psum_sq = torch.tensor([0.0, 0.0, 0.0])
total_pixels = 0

# 遍历数据集
for inputs, _ in dataloader:
    # 计算每个通道的像素值总和
    psum += inputs.sum(axis=[0, 2, 3])
    # 计算每个通道的像素值平方和
    psum_sq += (inputs ** 2).sum(axis=[0, 2, 3])
    # 累加像素总数
    total_pixels += inputs.size(2) * inputs.size(3)

# 计算均值
mean = psum / len(dataset) / total_pixels
# 计算标准差
std = torch.sqrt(psum_sq / len(dataset) / total_pixels - mean ** 2)

print("Mean:", mean)  
print("Std:", std)  
